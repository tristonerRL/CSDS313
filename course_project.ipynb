{
  "nbformat": 4,
  "nbformat_minor": 0,
  "metadata": {
    "colab": {
      "name": "course project.ipynb",
      "provenance": [],
      "collapsed_sections": [],
      "toc_visible": true
    },
    "kernelspec": {
      "name": "python3",
      "display_name": "Python 3"
    },
    "language_info": {
      "name": "python"
    }
  },
  "cells": [
    {
      "cell_type": "markdown",
      "metadata": {
        "id": "BpTnqmb7G9_K"
      },
      "source": [
        "# Configuration"
      ]
    },
    {
      "cell_type": "code",
      "metadata": {
        "colab": {
          "base_uri": "https://localhost:8080/"
        },
        "id": "BN9W5glTGejL",
        "outputId": "819f3494-6330-444a-da47-92962eb3aa5a"
      },
      "source": [
        "import scipy\n",
        "!pip3 install --upgrade scipy\n",
        "from scipy import stats\n",
        "from scipy.stats import bernoulli, binom\n",
        "import statsmodels.api as sm\n",
        "import statistics\n",
        "import numpy as np\n",
        "import pandas as pd\n",
        "from numpy import random\n",
        "import matplotlib.pyplot as plt\n",
        "import math\n",
        "import pylab\n",
        "from statsmodels import graphics\n",
        "from statsmodels.graphics import gofplots as gp\n",
        "import seaborn as sns\n",
        "from numpy import random\n",
        "from scipy.stats import rankdata\n",
        "import random as rd"
      ],
      "execution_count": 1,
      "outputs": [
        {
          "output_type": "stream",
          "name": "stdout",
          "text": [
            "Requirement already satisfied: scipy in /usr/local/lib/python3.7/dist-packages (1.7.3)\n",
            "Requirement already satisfied: numpy<1.23.0,>=1.16.5 in /usr/local/lib/python3.7/dist-packages (from scipy) (1.19.5)\n"
          ]
        },
        {
          "output_type": "stream",
          "name": "stderr",
          "text": [
            "/usr/local/lib/python3.7/dist-packages/statsmodels/tools/_testing.py:19: FutureWarning: pandas.util.testing is deprecated. Use the functions in the public API at pandas.testing instead.\n",
            "  import pandas.util.testing as tm\n"
          ]
        }
      ]
    },
    {
      "cell_type": "code",
      "metadata": {
        "colab": {
          "base_uri": "https://localhost:8080/"
        },
        "id": "p_atopwpG5jJ",
        "outputId": "0c641051-e30d-4bee-8d75-5826f5d15ae3"
      },
      "source": [
        "from google.colab import drive\n",
        "drive.mount('/content/drive')"
      ],
      "execution_count": 4,
      "outputs": [
        {
          "output_type": "stream",
          "name": "stdout",
          "text": [
            "Drive already mounted at /content/drive; to attempt to forcibly remount, call drive.mount(\"/content/drive\", force_remount=True).\n"
          ]
        }
      ]
    },
    {
      "cell_type": "code",
      "metadata": {
        "id": "WmuSDoLREqu1"
      },
      "source": [
        "import sys\n",
        "sys.path.append('/content/drive/MyDrive/Colab\\ Notebooks/CSDS313/Final')\n",
        "sys.path.append('/content/drive/MyDrive/Colab\\ Notebooks/CSDS313/Final/ml-100k')\n",
        "import numpy.linalg as ln"
      ],
      "execution_count": 25,
      "outputs": []
    },
    {
      "cell_type": "markdown",
      "metadata": {
        "id": "RW6ZIMpxHGJv"
      },
      "source": [
        "# Experiment 1"
      ]
    },
    {
      "cell_type": "code",
      "metadata": {
        "id": "O36OKv-2vxG1"
      },
      "source": [
        "def incrementalSVD(mat_a1, mat_a2, k, only_uk=False):\n",
        "  \"\"\"Apply SVD for a matrix with new columns\n",
        "\n",
        "  :param mat_a1: original matrix (m x n1)\n",
        "  :param mat_a2: new columns (m x n2)\n",
        "  :param k: rank-k for the approximated result\n",
        "  :returns: rank-k approximated U, S, V^T as a result of svd([mat_a1, mat_a2])\n",
        "  \"\"\"\n",
        "\n",
        "  if mat_a1.shape[0] != mat_a2.shape[0]:\n",
        "    raise ValueError('Error: the number of rows both in mat_a1 and mat_a2 should be the same')\n",
        "\n",
        "  # get the number of rows and columns\n",
        "  m = mat_a1.shape[0]\n",
        "  n1 = mat_a1.shape[1]\n",
        "  n2 = mat_a2.shape[1]\n",
        "\n",
        "  if k < 1:\n",
        "    raise ValueError('Error: rank k must be greater than or equal to 1')\n",
        "  if k > min(m, n1 + n2):\n",
        "    raise ValueError('Error: rank k must be less than or equal to min(m, n1 + n2)')\n",
        "\n",
        "  # apply SVD for the original matrix\n",
        "  mat_u1, vec_s1, mat_v1t = ln.svd(mat_a1, full_matrices=False)\n",
        "  mat_s1 = np.diag(vec_s1)\n",
        "\n",
        "  # define mat_f as [S, U^T A_1], and decompose it by SVD\n",
        "  mat_f = np.hstack((mat_s1, np.dot(mat_u1.T, mat_a2)))\n",
        "  mat_uf, vec_sf, mat_vft = ln.svd(mat_f, full_matrices=False)\n",
        "\n",
        "  # keep rank-k approximation\n",
        "  mat_uf = mat_uf[:, :k]\n",
        "  if only_uk: return  np.dot(mat_u1, mat_uf)\n",
        "  vec_sf = vec_sf[:k]\n",
        "  mat_vft = mat_vft[:k, :]\n",
        "\n",
        "  # create a temporary matrix to compute V_k\n",
        "  V = mat_v1t.T\n",
        "  Z1 = np.zeros((n1, n2))\n",
        "  Z2 = np.zeros((n2, V.shape[1]))\n",
        "  I = np.eye(n2)\n",
        "  mat_tmp = np.vstack((\n",
        "      np.hstack((V, Z1)),\n",
        "      np.hstack((Z2, I))\n",
        "    ))\n",
        "  mat_vk = np.dot(mat_tmp, mat_vft.T)\n",
        "\n",
        "  # compute U_k and S_k\n",
        "  mat_uk = np.dot(mat_u1, mat_uf)\n",
        "  mat_sk = np.diag(vec_sf)\n",
        "\n",
        "  return mat_uk, mat_sk, mat_vk.T"
      ],
      "execution_count": 22,
      "outputs": []
    },
    {
      "cell_type": "code",
      "metadata": {
        "id": "JMR0waI8vd5q"
      },
      "source": [
        "def incrementalApproSVD(mat_b1, mat_b2, c1, c2, k, p1, p2):\n",
        "  \"\"\"Apply Incremental ApproSVD for a matrix with new columns\n",
        "\n",
        "  :param mat_b1: original matrix (m x n1)\n",
        "  :param mat_b2: new columns (m x n2)\n",
        "  :param c1: the number of sampled columns from B1\n",
        "  :param c2: the number of sampled columns from B2\n",
        "  :param k: rank-k for the approximated result\n",
        "  :param p1: sampling probabilities for each column in B1\n",
        "  :param p2: sampling probabilities for each column in B2\n",
        "  :returns: H_k as an output of Incremental ApproSVD (H_k H_k^T = I)\n",
        "  \"\"\"\n",
        "\n",
        "  if mat_b1.shape[0] != mat_b2.shape[0]:\n",
        "    raise ValueError('Error: the number of rows both in mat_a1 and mat_a2 should be the same')\n",
        "\n",
        "  if len(p1[p1<0]) != 0:\n",
        "    raise ValueError('Error: negative probabilities in p1 are not allowed')\n",
        "  if len(p2[p2<0]) != 0:\n",
        "    raise ValueError('Error: negative probabilities in p2 are not allowed')\n",
        "\n",
        "  if not np.isclose(sum(p1), 1.):\n",
        "    raise ValueError('Error: sum of the probabilities must be 1 for p1')\n",
        "  if not np.isclose(sum(p2), 1.):\n",
        "    raise ValueError('Error: sum of the probabilities must be 1 for p2')\n",
        "\n",
        "  # get the number of rows and columns\n",
        "  m = mat_b1.shape[0]\n",
        "  n1 = mat_b1.shape[1]\n",
        "  n2 = mat_b2.shape[1]\n",
        "\n",
        "  if c1 >= n1:\n",
        "    raise ValueError('Error: c1 must be less than n1')\n",
        "  if c2 >= n2:\n",
        "    raise ValueError('Error: c2 must be less than n2')\n",
        "\n",
        "  if k < 1:\n",
        "    raise ValueError('Error: rank k must be greater than or equal to 1')\n",
        "  if k > min(m, c1 + c2):\n",
        "    raise ValueError('Error: rank k must be less than or equal to min(m, n1 + n2)')\n",
        "\n",
        "  # sample c1 columns from B1, and combine them as a matrix C1\n",
        "  mat_c1 = np.zeros((m, c1))\n",
        "  samples = np.random.choice(range(n1), c1, replace=False, p=p1)\n",
        "  for t in range(c1):\n",
        "    mat_c1[:, t] = mat_b1[:, samples[t]] / np.sqrt(c1 * p1[samples[t]])\n",
        "\n",
        "  # sample c2 columns from B2, and combine them as a matrix C2\n",
        "  mat_c2 = np.zeros((m, c2))\n",
        "  samples = np.random.choice(range(n2), c2, replace=False, p=p2)\n",
        "  for t in range(c2):\n",
        "    mat_c2[:, t] = mat_b2[:, samples[t]] / np.sqrt(c2 * p2[samples[t]])\n",
        "\n",
        "  # apply Incremental SVD for smaller matrices C1, C2, and get only U_k as H_k\n",
        "  return incrementalSVD(mat_c1, mat_c2, k, True)"
      ],
      "execution_count": 20,
      "outputs": []
    },
    {
      "cell_type": "code",
      "metadata": {
        "id": "5yi1orXQOtqj"
      },
      "source": [
        "from sklearn.model_selection import KFold\n",
        "import numpy as np"
      ],
      "execution_count": 8,
      "outputs": []
    },
    {
      "cell_type": "code",
      "metadata": {
        "id": "3EC4y3-dwA5f"
      },
      "source": [
        "def createRatingPairs(ratings_test, mat1, mat2, n1, n2):\n",
        "  rating_pairs = []\n",
        "  for r in ratings_test:\n",
        "    if r[1] >= (n1 + n2): continue\n",
        "    r1 = mat1[r[0]-1, r[1]-1]\n",
        "    r2 = mat2[r[0]-1, r[1]-1]\n",
        "    rating_pairs.append((r1, r2))\n",
        "  return np.asarray(rating_pairs)\n",
        "\n",
        "def computeMAE(rating_pairs):\n",
        "  n = rating_pairs.shape[0]\n",
        "  total = 0\n",
        "  for rt, rp in rating_pairs:\n",
        "    total += abs(rt - rp)\n",
        "  return total / float(n)\n",
        "\n",
        "def computeRMSE(rating_pairs):\n",
        "  n = rating_pairs.shape[0]\n",
        "  total = 0\n",
        "  for rt, rp in rating_pairs:\n",
        "    total += (rt - rp) ** 2\n",
        "  return np.sqrt(total / float(n))\n",
        "\n",
        "def ratings2matrix(ratings):\n",
        "  data = np.zeros((n_users, n_movies))\n",
        "  for r in ratings:\n",
        "    data[r[0]-1, r[1]-1] = r[2] # data[user_idx, movie_idx] = rating\n",
        "  return data"
      ],
      "execution_count": 28,
      "outputs": []
    },
    {
      "cell_type": "code",
      "metadata": {
        "id": "l2Qa_pOQOCuT"
      },
      "source": [
        "PATH = '/content/drive/MyDrive/Colab Notebooks/CSDS313/Final/ml-100k/u.data'\n",
        "n_users = 943\n",
        "n_movies = 1682\n",
        "n_ratings = 100000\n",
        "\n",
        "ratings = []\n",
        "with open(PATH) as f:\n",
        "  for i in range(n_ratings):\n",
        "    line = f.readline()\n",
        "    ratings.append(list(map(int, line.rstrip().split('\\t'))))\n",
        "ratings = np.asarray(ratings)"
      ],
      "execution_count": 9,
      "outputs": []
    },
    {
      "cell_type": "code",
      "metadata": {
        "id": "GdAkwra2QaA5"
      },
      "source": [
        "def ratings2matrix(ratings):\n",
        "  data = np.zeros((n_users, n_movies))\n",
        "  for r in ratings:\n",
        "    data[r[0]-1, r[1]-1] = r[2] # data[user_idx, movie_idx] = rating\n",
        "  return data"
      ],
      "execution_count": 10,
      "outputs": []
    },
    {
      "cell_type": "code",
      "metadata": {
        "id": "ZUjnNQ6uOSjH"
      },
      "source": [
        "# reduced rank\n",
        "k = 10\n",
        "\n",
        "# number of original columns for Incremental ApproSVD\n",
        "# B1: 900, B2: 100\n",
        "n1 = 900\n",
        "n2 = 100\n",
        "\n",
        "# how many columns are evaluated? (n_movies=1682 is the maximum)\n",
        "# A1: 500, A2: 50\n",
        "c1 = 500\n",
        "c2 = 50\n",
        "\n",
        "np.random.shuffle(ratings)\n",
        "kf = KFold(n_splits=5)\n",
        "\n",
        "iSVD_totalRMSE = 0.\n",
        "ApproSVD_totalRMSE = 0."
      ],
      "execution_count": 11,
      "outputs": []
    },
    {
      "cell_type": "code",
      "metadata": {
        "id": "-ffbOHLsP0bV"
      },
      "source": [
        "def experiment(k,n1,n2,c1,c2):\n",
        "  np.random.shuffle(ratings)\n",
        "  kf = KFold(n_splits=5)\n",
        "\n",
        "  iSVD_totalRMSE = 0.\n",
        "  ApproSVD_totalRMSE = 0.\n",
        "  for train_indices, test_indices in kf.split(ratings):\n",
        "\n",
        "      # separate ratings to train and test\n",
        "      ratings_train = ratings[train_indices]\n",
        "      ratings_test = ratings[test_indices]\n",
        "\n",
        "      # create training matrix\n",
        "      mat_train = ratings2matrix(ratings_train)\n",
        "\n",
        "      # rank-k approximation of [B1, B2] based on Incremental ApproSVD\n",
        "      mat_b1 = mat_train[:, :n1]\n",
        "      mat_b2 = mat_train[:, n1:n1+n2]\n",
        "\n",
        "      # colums sampling probabilities for B1\n",
        "      nnz_b1 = np.count_nonzero(mat_b1)\n",
        "      p1 = np.zeros(n1)\n",
        "      for i in range(n1):\n",
        "        p1[i] = np.count_nonzero(mat_b1[:, i]) / float(nnz_b1)\n",
        "\n",
        "      # colums sampling probabilities for B2\n",
        "      nnz_b2 = np.count_nonzero(mat_b2)\n",
        "      p2 = np.zeros(n2)\n",
        "      for i in range(n2):\n",
        "        p2[i] = np.count_nonzero(mat_b2[:, i]) / float(nnz_b2)\n",
        "\n",
        "      mat_hk = incrementalApproSVD(mat_b1, mat_b2, c1, c2, k, p1, p2)\n",
        "      mat_orig = mat_train[:, :n1+n2]\n",
        "      mat_ApproSVD = np.dot(np.dot(mat_hk, mat_hk.T), mat_orig)\n",
        "\n",
        "      # best rank-k approximation of [B1, B2] based on truncated SVD\n",
        "      mat_u, vec_s, mat_vt = ln.svd(mat_train[:, :n1+n2], full_matrices=False)\n",
        "      mat_SVD = np.dot(np.dot(mat_u[:, :k], np.diag(vec_s[:k])), mat_vt[:k, :])\n",
        "\n",
        "      # compute RMSE between SVD and ApproSVD\n",
        "      rating_pairs = createRatingPairs(ratings_test, mat_SVD, mat_ApproSVD, n1, n2)\n",
        "      ApproSVD_totalRMSE += computeRMSE(rating_pairs)\n",
        "\n",
        "      # rank-k approximation of [A1, A2] based on Incremental SVD\n",
        "      mat_a1 = mat_train[:, :c1]\n",
        "      mat_a2 = mat_train[:, c1:c1+c2]\n",
        "\n",
        "      mat_u, mat_s, mat_vt = incrementalSVD(mat_a1, mat_a2, k)\n",
        "      mat_iSVD = np.dot(np.dot(mat_u, mat_s), mat_vt)\n",
        "\n",
        "      # best rank-k approximation of [A1, A2] based on truncated SVD\n",
        "      mat_u, vec_s, mat_vt = ln.svd(mat_train[:, :c1+c2], full_matrices=False)\n",
        "      mat_SVD = np.dot(np.dot(mat_u[:, :k], np.diag(vec_s[:k])), mat_vt[:k, :])\n",
        "\n",
        "      # compute RMSE between SVD and iSVD\n",
        "      rating_pairs = createRatingPairs(ratings_test, mat_SVD, mat_iSVD, c1, c2)\n",
        "      iSVD_totalRMSE += computeRMSE(rating_pairs)\n",
        "\n",
        "  return iSVD_totalRMSE, ApproSVD_totalRMSE"
      ],
      "execution_count": 12,
      "outputs": []
    },
    {
      "cell_type": "code",
      "metadata": {
        "colab": {
          "base_uri": "https://localhost:8080/"
        },
        "id": "v8xtH9AGRJA9",
        "outputId": "0c1ff1a2-0268-44b8-b7f7-fc608ff0ba71"
      },
      "source": [
        "print ('Incremental SVD      vs. truncated SVD:', iSVD_totalRMSE / 5.)\n",
        "print ('Incremental ApproSVD vs. truncated SVD:', ApproSVD_totalRMSE / 5.)"
      ],
      "execution_count": 13,
      "outputs": [
        {
          "output_type": "stream",
          "name": "stdout",
          "text": [
            "Incremental SVD      vs. truncated SVD: 0.0\n",
            "Incremental ApproSVD vs. truncated SVD: 0.0\n"
          ]
        }
      ]
    },
    {
      "cell_type": "code",
      "metadata": {
        "colab": {
          "base_uri": "https://localhost:8080/"
        },
        "id": "cB28h_37TJ7o",
        "outputId": "dd78b6be-61b4-47dd-c4ac-d72e85e77ae4"
      },
      "source": [
        "# conduct the experiment for 10 times\n",
        "exp1 = []\n",
        "for i in range(0,10):\n",
        "  exp1.append(experiment(k,n1,n2,c1,c2))\n",
        "print(exp1)"
      ],
      "execution_count": 29,
      "outputs": [
        {
          "output_type": "stream",
          "name": "stdout",
          "text": [
            "[(0.14950391796376555, 1.2828474741458225), (0.28919437093272155, 1.2404376151842795), (0.16192898447682155, 1.2791299481861014), (0.14891743666976404, 1.2372973223462154), (0.15533329322223005, 1.237464727870921), (0.1810598953669381, 1.183592489836391), (0.15191429579977514, 1.2125585603271005), (0.15200348050508022, 1.2681179127524782), (0.15749783313058646, 1.2241617828103273), (0.1488470904046614, 1.3040908004296294)]\n"
          ]
        }
      ]
    },
    {
      "cell_type": "code",
      "metadata": {
        "colab": {
          "base_uri": "https://localhost:8080/"
        },
        "id": "dWaH7UZOUC5F",
        "outputId": "2870ddb8-b6a1-45d0-adba-cf6c1238fec1"
      },
      "source": [
        "exp1_df = pd.DataFrame(exp1)\n",
        "print(exp1_df)"
      ],
      "execution_count": 30,
      "outputs": [
        {
          "output_type": "stream",
          "name": "stdout",
          "text": [
            "          0         1\n",
            "0  0.149504  1.282847\n",
            "1  0.289194  1.240438\n",
            "2  0.161929  1.279130\n",
            "3  0.148917  1.237297\n",
            "4  0.155333  1.237465\n",
            "5  0.181060  1.183592\n",
            "6  0.151914  1.212559\n",
            "7  0.152003  1.268118\n",
            "8  0.157498  1.224162\n",
            "9  0.148847  1.304091\n"
          ]
        }
      ]
    },
    {
      "cell_type": "code",
      "metadata": {
        "colab": {
          "base_uri": "https://localhost:8080/",
          "height": 295
        },
        "id": "9-83qPS2xKpA",
        "outputId": "7a460c03-20cc-4bf8-a494-bf1b53eb63d7"
      },
      "source": [
        "x=range(0,10)\n",
        "y1=exp1_df[0]\n",
        "y2=exp1_df[1]\n",
        "plt.plot(x,y1,'r',x,y2,'b')\n",
        "plt.plot(x,y1,'r',label='Incremental SVD')\n",
        "plt.plot(x,y2,'b',label='Incremental ApproSVD')\n",
        "plt.xlim((0,9))\n",
        "plt.ylim((0,2))\n",
        "plt.legend()\n",
        "plt.title('The RMSE for Incremental SVD and Incremental ApproSVD')\n",
        "plt.xlabel('Experiment no.')\n",
        "plt.ylabel('RMSE')\n",
        "plt.show()"
      ],
      "execution_count": 40,
      "outputs": [
        {
          "output_type": "display_data",
          "data": {
            "image/png": "[encoded data removed]",
            "text/plain": [
              "<Figure size 432x288 with 1 Axes>"
            ]
          },
          "metadata": {
            "needs_background": "light"
          }
        }
      ]
    },
    {
      "cell_type": "markdown",
      "metadata": {
        "id": "I1GbHfRpTsJk"
      },
      "source": [
        "# Experiment 2"
      ]
    },
    {
      "cell_type": "markdown",
      "metadata": {
        "id": "KwYddZHTTuoo"
      },
      "source": [
        "Test the popularity bias before and after incrementalApproSVD"
      ]
    },
    {
      "cell_type": "code",
      "metadata": {
        "id": "9eHtn8dlT4Oh"
      },
      "source": [
        "# calculate the appearance time and average rating for each item\n",
        "df_ratings = pd.DataFrame(ratings)\n",
        "df_ratings.columns = ['user','item','rating','time']\n",
        "df_ratings.head(10)\n",
        "appearance = df_ratings.groupby('item',as_index=False)['user'].count()\n",
        "average = df_ratings.groupby('item', as_index=False)['rating'].mean()"
      ],
      "execution_count": 42,
      "outputs": []
    },
    {
      "cell_type": "code",
      "metadata": {
        "id": "q7bva-rZaIh6"
      },
      "source": [
        "mat_all = ratings2matrix(ratings)\n",
        "mat_all_b1 = mat_all[:,:n1]\n",
        "mat_all_b2 = mat_all[:,n1:n1+n2]\n",
        "\n",
        "# colums sampling probabilities for B1\n",
        "nnz_b1 = np.count_nonzero(mat_all_b1)\n",
        "p1 = np.zeros(n1)\n",
        "for i in range(n1):\n",
        "  p1[i] = np.count_nonzero(mat_all_b1[:, i]) / float(nnz_b1)\n",
        "\n",
        "# colums sampling probabilities for B2\n",
        "nnz_b2 = np.count_nonzero(mat_all_b2)\n",
        "p2 = np.zeros(n2)\n",
        "for i in range(n2):\n",
        "  p2[i] = np.count_nonzero(mat_all_b2[:, i]) / float(nnz_b2)\n",
        "\n",
        "# calculate the approximation result for incremental Appro SVD\n",
        "mat_hk = incrementalApproSVD(mat_all_b1, mat_all_b2, c1, c2, k, p1, p2)\n",
        "mat_orig = mat_all[:, :n1+n2]\n",
        "mat_ApproSVD = np.dot(np.dot(mat_hk, mat_hk.T), mat_orig)\n",
        "\n",
        "# initialize the recommendation list\n",
        "recommend_ApproSVD = np.zeros((n_users,10))\n",
        "recommend_SVD = np.zeros((n_users,10))"
      ],
      "execution_count": 43,
      "outputs": []
    },
    {
      "cell_type": "code",
      "metadata": {
        "id": "9wFqa5x4iCMA"
      },
      "source": [
        "# calculate the recommended items for all the users\n",
        "for i in range(n_users):\n",
        "  all_ratings = pd.DataFrame(columns=range(0,2))\n",
        "  for j in range(0,n1+n2):\n",
        "    if mat_all[i,j]!=0:\n",
        "      all_ratings = all_ratings.append({0: mat_ApproSVD[i,j], 1: j},ignore_index=True) \n",
        "  all_ratings = all_ratings.sort_values(by=0,ascending=False)\n",
        "  all_ratings[1] = all_ratings[1].astype(int)\n",
        "  all_ratings = all_ratings.reset_index(drop=True)\n",
        "  all_ratings = all_ratings.loc[0:9]\n",
        "  recommend_ApproSVD[i,:] = all_ratings[1]"
      ],
      "execution_count": 44,
      "outputs": []
    },
    {
      "cell_type": "code",
      "metadata": {
        "id": "10ZXSozkjueS"
      },
      "source": [
        "# calculate the approximation result for normal SVD\n",
        "mat_u, vec_s, mat_vt = ln.svd(mat_all[:, :n1+n2], full_matrices=False)\n",
        "mat_SVD = np.dot(np.dot(mat_u[:, :k], np.diag(vec_s[:k])), mat_vt[:k, :])"
      ],
      "execution_count": 45,
      "outputs": []
    },
    {
      "cell_type": "code",
      "metadata": {
        "id": "_9vaRW1BkhDz"
      },
      "source": [
        "for i in range(n_users):\n",
        "  all_ratings = pd.DataFrame(columns=range(0,2))\n",
        "  for j in range(0,n1+n2):\n",
        "    if mat_all[i,j]!=0:\n",
        "      all_ratings = all_ratings.append({0: mat_SVD[i,j], 1: j},ignore_index=True) \n",
        "  all_ratings = all_ratings.sort_values(by=0,ascending=False)\n",
        "  all_ratings[1] = all_ratings[1].astype(int)\n",
        "  all_ratings = all_ratings.reset_index(drop=True)\n",
        "  all_ratings = all_ratings.loc[0:9]\n",
        "  recommend_SVD[i,:] = all_ratings[1]"
      ],
      "execution_count": 46,
      "outputs": []
    },
    {
      "cell_type": "code",
      "metadata": {
        "colab": {
          "base_uri": "https://localhost:8080/"
        },
        "id": "mzw6Pp4fczt9",
        "outputId": "13abd533-4707-4e84-cebd-eebd26c1ea60"
      },
      "source": [
        "print(recommend_ApproSVD)"
      ],
      "execution_count": 47,
      "outputs": [
        {
          "output_type": "stream",
          "name": "stdout",
          "text": [
            "[[ 49.  99. 167. ... 173.  88. 171.]\n",
            " [285. 257. 299. ... 274. 236. 293.]\n",
            " [301. 299. 257. ... 306. 339. 267.]\n",
            " ...\n",
            " [  0. 180. 116. ... 293.  14. 297.]\n",
            " [299. 312.  49. ... 268. 495. 356.]\n",
            " [ 55.  78.  95. ...  63.  10. 567.]]\n"
          ]
        }
      ]
    },
    {
      "cell_type": "code",
      "metadata": {
        "colab": {
          "base_uri": "https://localhost:8080/"
        },
        "id": "ke2M163PmfgD",
        "outputId": "e134680f-8cf8-40dd-be6d-4c194ad73063"
      },
      "source": [
        "print(recommend_SVD)"
      ],
      "execution_count": 48,
      "outputs": [
        {
          "output_type": "stream",
          "name": "stdout",
          "text": [
            "[[ 49.  99.  55. ...  88. 180. 171.]\n",
            " [285. 257. 299. ... 301. 236.  49.]\n",
            " [299. 301. 257. ... 293. 306. 267.]\n",
            " ...\n",
            " [180.   0. 256. ... 293. 474. 297.]\n",
            " [299. 312.  49. ... 317. 327. 171.]\n",
            " [ 55.  63.  21. ... 173.  68. 181.]]\n"
          ]
        }
      ]
    },
    {
      "cell_type": "code",
      "metadata": {
        "id": "gFL-QM2-mlGc"
      },
      "source": [
        "# calculate the average number of ratings and the average average rating scores for the top 10 movies for each user\n",
        "\n",
        "#intialize\n",
        "user_average_SVD = np.zeros(n_users)\n",
        "user_appearance_SVD = np.zeros(n_users)\n",
        "user_average_ApproSVD = np.zeros(n_users)\n",
        "user_appearance_ApproSVD = np.zeros(n_users)\n",
        "\n",
        "for i in range(n_users):\n",
        "\n",
        "  user_average_SVD[i]=0\n",
        "  for j in range(10):\n",
        "    user_average_SVD[i]+= average.loc[recommend_SVD[i,j]]['rating']\n",
        "  user_average_SVD[i] = user_average_SVD[i]/10\n",
        "\n",
        "  user_appearance_SVD[i]=0\n",
        "  for j in range(10):\n",
        "    user_appearance_SVD[i]+= appearance.loc[recommend_SVD[i,j]]['user']\n",
        "  user_appearance_SVD[i] = user_appearance_SVD[i]/10\n",
        "\n",
        "  user_average_ApproSVD[i]=0\n",
        "  for j in range(10):\n",
        "    user_average_ApproSVD[i]+= average.loc[recommend_ApproSVD[i,j]]['rating']\n",
        "  user_average_ApproSVD[i] = user_average_ApproSVD[i]/10\n",
        "\n",
        "  user_appearance_ApproSVD[i]=0\n",
        "  for j in range(10):\n",
        "    user_appearance_ApproSVD[i]+= appearance.loc[recommend_ApproSVD[i,j]]['user']\n",
        "  user_appearance_ApproSVD[i] = user_appearance_ApproSVD[i]/10"
      ],
      "execution_count": 49,
      "outputs": []
    },
    {
      "cell_type": "code",
      "metadata": {
        "colab": {
          "base_uri": "https://localhost:8080/"
        },
        "id": "DT0WkcLEqc6x",
        "outputId": "fd74caef-359c-4bfe-86d2-e0b2ea935a76"
      },
      "source": [
        "# concat the average ratings for SVD and ApproSVD for comparation\n",
        "df_average_SVD = pd.DataFrame( user_average_SVD, columns=['SVD'] )\n",
        "df_average_ApproSVD = pd.DataFrame( user_average_ApproSVD, columns=['ApproSVD'] )\n",
        "compare_average = pd.concat( [df_average_SVD, df_average_ApproSVD], axis=1 )\n",
        "print(compare_average)"
      ],
      "execution_count": 50,
      "outputs": [
        {
          "output_type": "stream",
          "name": "stdout",
          "text": [
            "          SVD  ApproSVD\n",
            "0    4.121549  4.121549\n",
            "1    3.966204  3.846025\n",
            "2    3.678246  3.721306\n",
            "3    3.430349  3.541526\n",
            "4    4.004848  3.984816\n",
            "..        ...       ...\n",
            "938  3.636474  3.514899\n",
            "939  4.024903  4.020018\n",
            "940  3.739623  3.729038\n",
            "941  4.079862  4.031743\n",
            "942  4.099960  4.077607\n",
            "\n",
            "[943 rows x 2 columns]\n"
          ]
        }
      ]
    },
    {
      "cell_type": "code",
      "metadata": {
        "colab": {
          "base_uri": "https://localhost:8080/"
        },
        "id": "bMYNygKOrKZv",
        "outputId": "8e0e9d95-7d70-4dc7-c0de-2cdbcdf9657b"
      },
      "source": [
        "df_appearance_SVD = pd.DataFrame( user_appearance_SVD, columns=['SVD'])\n",
        "df_appearance_ApproSVD = pd.DataFrame( user_appearance_ApproSVD, columns=['ApproSVD'])\n",
        "compare_appearance = pd.concat( [df_appearance_SVD, df_appearance_ApproSVD], axis=1 )\n",
        "print(compare_appearance)"
      ],
      "execution_count": 51,
      "outputs": [
        {
          "output_type": "stream",
          "name": "stdout",
          "text": [
            "       SVD  ApproSVD\n",
            "0    408.6     408.6\n",
            "1    412.6     402.8\n",
            "2    338.7     309.1\n",
            "3    352.4     353.1\n",
            "4    390.4     346.8\n",
            "..     ...       ...\n",
            "938  310.1     315.3\n",
            "939  426.0     440.1\n",
            "940  383.5     387.8\n",
            "941  374.8     359.6\n",
            "942  307.5     305.9\n",
            "\n",
            "[943 rows x 2 columns]\n"
          ]
        }
      ]
    },
    {
      "cell_type": "code",
      "metadata": {
        "colab": {
          "base_uri": "https://localhost:8080/",
          "height": 312
        },
        "id": "3rO8a3RIsSvo",
        "outputId": "243b9940-655e-44c0-e953-0061b72b7c1a"
      },
      "source": [
        "# draw the histogram for appearance using SVD and ApproSVD\n",
        "x=range(0,n_users)\n",
        "y1=compare_appearance['SVD']\n",
        "y2=compare_appearance['ApproSVD']\n",
        "plt.plot(x,y1-y2,'b')\n",
        "plt.title('Difference in average appearance times for the recommended 10 items for all users')\n",
        "plt.xlabel('User ID')\n",
        "plt.ylabel('Difference in average appearance times')"
      ],
      "execution_count": 57,
      "outputs": [
        {
          "output_type": "execute_result",
          "data": {
            "text/plain": [
              "Text(0, 0.5, 'Difference in average appearance times')"
            ]
          },
          "metadata": {},
          "execution_count": 57
        },
        {
          "output_type": "display_data",
          "data": {
            "image/png": "[encoded data removed]",
            "text/plain": [
              "<Figure size 432x288 with 1 Axes>"
            ]
          },
          "metadata": {
            "needs_background": "light"
          }
        }
      ]
    },
    {
      "cell_type": "code",
      "metadata": {
        "colab": {
          "base_uri": "https://localhost:8080/",
          "height": 312
        },
        "id": "iF011sRgs5SO",
        "outputId": "5063acdb-b3e0-422a-b05c-c1b98ddc4255"
      },
      "source": [
        "# draw the histogram for average using SVD and ApproSVD\n",
        "x=range(0,n_users)\n",
        "y1=compare_average['SVD']\n",
        "y2=compare_average['ApproSVD']\n",
        "plt.plot(x,y1-y2,'b')\n",
        "plt.title('Difference in average rating scores for the recommended 10 items for all users')\n",
        "plt.xlabel('User ID')\n",
        "plt.ylabel('Difference in average rating scores')"
      ],
      "execution_count": 58,
      "outputs": [
        {
          "output_type": "execute_result",
          "data": {
            "text/plain": [
              "Text(0, 0.5, 'Difference in average rating scores')"
            ]
          },
          "metadata": {},
          "execution_count": 58
        },
        {
          "output_type": "display_data",
          "data": {
            "image/png": "[encoded data removed]",
            "text/plain": [
              "<Figure size 432x288 with 1 Axes>"
            ]
          },
          "metadata": {
            "needs_background": "light"
          }
        }
      ]
    },
    {
      "cell_type": "code",
      "metadata": {
        "colab": {
          "base_uri": "https://localhost:8080/"
        },
        "id": "VRaJEjYYNHvI",
        "outputId": "44b44a71-2448-44e2-9719-122e5cf82ca4"
      },
      "source": [
        "a=np.array(y1)\n",
        "b=np.array(y2)\n",
        "print(gini(a), gini(b))"
      ],
      "execution_count": 95,
      "outputs": [
        {
          "output_type": "stream",
          "name": "stdout",
          "text": [
            "0.03155216513930439 0.03205091592083051\n"
          ]
        }
      ]
    },
    {
      "cell_type": "code",
      "metadata": {
        "id": "tWg-VKlutZlx"
      },
      "source": [
        "[t,p] =scipy.stats.ttest_ind(compare_average['SVD'],compare_average['ApproSVD'], alternative='greater')"
      ],
      "execution_count": 55,
      "outputs": []
    },
    {
      "cell_type": "code",
      "metadata": {
        "id": "NFRSafZp9b00"
      },
      "source": [
        "[t,p] =scipy.stats.ttest_ind(compare_appearance['SVD'],compare_appearance['ApproSVD'], alternative='greater')"
      ],
      "execution_count": 63,
      "outputs": []
    },
    {
      "cell_type": "code",
      "metadata": {
        "colab": {
          "base_uri": "https://localhost:8080/"
        },
        "id": "L5EX2CJZ3OVs",
        "outputId": "eac7c039-7578-4e4d-acb6-af773c933810"
      },
      "source": [
        "print (t,p)"
      ],
      "execution_count": 64,
      "outputs": [
        {
          "output_type": "stream",
          "name": "stdout",
          "text": [
            "2.1687588151977724 0.015112871456796436\n"
          ]
        }
      ]
    },
    {
      "cell_type": "markdown",
      "metadata": {
        "id": "FiAIe42b6wxZ"
      },
      "source": [
        "# Hyperparameter "
      ]
    },
    {
      "cell_type": "code",
      "metadata": {
        "id": "s1oHxVfy6ySK"
      },
      "source": [
        "def experiment_hyper(n1,n2,c1,c2,k):\n",
        "  mat_all = ratings2matrix(ratings)\n",
        "  mat_all_b1 = mat_all[:,:n1]\n",
        "  mat_all_b2 = mat_all[:,n1:n1+n2]\n",
        "\n",
        "  # colums sampling probabilities for B1\n",
        "  nnz_b1 = np.count_nonzero(mat_all_b1)\n",
        "  p1 = np.zeros(n1)\n",
        "  for i in range(n1):\n",
        "    p1[i] = np.count_nonzero(mat_all_b1[:, i]) / float(nnz_b1)\n",
        "\n",
        "  # colums sampling probabilities for B2\n",
        "  nnz_b2 = np.count_nonzero(mat_all_b2)\n",
        "  p2 = np.zeros(n2)\n",
        "  for i in range(n2):\n",
        "    p2[i] = np.count_nonzero(mat_all_b2[:, i]) / float(nnz_b2)\n",
        "\n",
        "  # calculate the approximation result for incremental Appro SVD\n",
        "  mat_hk = incrementalApproSVD(mat_all_b1, mat_all_b2, c1, c2, k, p1, p2)\n",
        "  mat_orig = mat_all[:, :n1+n2]\n",
        "  mat_ApproSVD = np.dot(np.dot(mat_hk, mat_hk.T), mat_orig)\n",
        "\n",
        "  # initialize the recommendation list\n",
        "  recommend_ApproSVD = np.zeros((n_users,10))\n",
        "  recommend_SVD = np.zeros((n_users,10))\n",
        "\n",
        "  # calculate the recommended items for all the users\n",
        "  for i in range(n_users):\n",
        "    all_ratings = pd.DataFrame(columns=range(0,2))\n",
        "    for j in range(0,n1+n2):\n",
        "      if mat_all[i,j]!=0:\n",
        "        all_ratings = all_ratings.append({0: mat_ApproSVD[i,j], 1: j},ignore_index=True) \n",
        "    all_ratings = all_ratings.sort_values(by=0,ascending=False)\n",
        "    all_ratings[1] = all_ratings[1].astype(int)\n",
        "    all_ratings = all_ratings.reset_index(drop=True)\n",
        "    all_ratings = all_ratings.loc[0:9]\n",
        "    recommend_ApproSVD[i,:] = all_ratings[1]\n",
        "\n",
        "  # calculate the approximation result for normal SVD\n",
        "  mat_u, vec_s, mat_vt = ln.svd(mat_all[:, :n1+n2], full_matrices=False)\n",
        "  mat_SVD = np.dot(np.dot(mat_u[:, :k], np.diag(vec_s[:k])), mat_vt[:k, :])\n",
        "\n",
        "  for i in range(n_users):\n",
        "    all_ratings = pd.DataFrame(columns=range(0,2))\n",
        "    for j in range(0,n1+n2):\n",
        "      if mat_all[i,j]!=0:\n",
        "        all_ratings = all_ratings.append({0: mat_SVD[i,j], 1: j},ignore_index=True) \n",
        "    all_ratings = all_ratings.sort_values(by=0,ascending=False)\n",
        "    all_ratings[1] = all_ratings[1].astype(int)\n",
        "    all_ratings = all_ratings.reset_index(drop=True)\n",
        "    all_ratings = all_ratings.loc[0:9]\n",
        "    recommend_SVD[i,:] = all_ratings[1]\n",
        "\n",
        "  #intialize\n",
        "  user_average_SVD = np.zeros(n_users)\n",
        "  user_appearance_SVD = np.zeros(n_users)\n",
        "  user_average_ApproSVD = np.zeros(n_users)\n",
        "  user_appearance_ApproSVD = np.zeros(n_users)\n",
        "\n",
        "  for i in range(n_users):\n",
        "\n",
        "    user_average_SVD[i]=0\n",
        "    for j in range(10):\n",
        "      user_average_SVD[i]+= average.loc[recommend_SVD[i,j]]['rating']\n",
        "    user_average_SVD[i] = user_average_SVD[i]/10\n",
        "\n",
        "    user_appearance_SVD[i]=0\n",
        "    for j in range(10):\n",
        "      user_appearance_SVD[i]+= appearance.loc[recommend_SVD[i,j]]['user']\n",
        "    user_appearance_SVD[i] = user_appearance_SVD[i]/10\n",
        "\n",
        "    user_average_ApproSVD[i]=0\n",
        "    for j in range(10):\n",
        "      user_average_ApproSVD[i]+= average.loc[recommend_ApproSVD[i,j]]['rating']\n",
        "    user_average_ApproSVD[i] = user_average_ApproSVD[i]/10\n",
        "\n",
        "    user_appearance_ApproSVD[i]=0\n",
        "    for j in range(10):\n",
        "      user_appearance_ApproSVD[i]+= appearance.loc[recommend_ApproSVD[i,j]]['user']\n",
        "    user_appearance_ApproSVD[i] = user_appearance_ApproSVD[i]/10\n",
        "\n",
        "  # concat the average ratings for SVD and ApproSVD for comparation\n",
        "  df_average_SVD = pd.DataFrame( user_average_SVD, columns=['SVD'] )\n",
        "  df_average_ApproSVD = pd.DataFrame( user_average_ApproSVD, columns=['ApproSVD'] )\n",
        "  compare_average = pd.concat( [df_average_SVD, df_average_ApproSVD], axis=1 )\n",
        "  print(compare_average)\n",
        "\n",
        "  df_appearance_SVD = pd.DataFrame( user_appearance_SVD, columns=['SVD'])\n",
        "  df_appearance_ApproSVD = pd.DataFrame( user_appearance_ApproSVD, columns=['ApproSVD'])\n",
        "  compare_appearance = pd.concat( [df_appearance_SVD, df_appearance_ApproSVD], axis=1 )\n",
        "  print(compare_appearance)\n",
        "\n",
        "  [t1,p1] =scipy.stats.ttest_ind(compare_average['SVD'],compare_average['ApproSVD'], alternative='greater')\n",
        "  [t2,p2] =scipy.stats.ttest_ind(compare_appearance['SVD'],compare_appearance['ApproSVD'], alternative='greater')\n",
        "  \n",
        "  np1=np.array(compare_appearance['SVD'])\n",
        "  np2=np.array(compare_appearance['ApproSVD'])\n",
        "  gini1 = gini(np1)\n",
        "  gini2 = gini(np2)\n",
        "  \n",
        "  return t1,p1,t2,p2,gini1,gini2"
      ],
      "execution_count": 97,
      "outputs": []
    },
    {
      "cell_type": "code",
      "metadata": {
        "id": "JrslEdvEKuh8"
      },
      "source": [
        "def gini(x):\n",
        "    # (Warning: This is a concise implementation, but it is O(n**2)\n",
        "    # in time and memory, where n = len(x).  *Don't* pass in huge\n",
        "    # samples!)\n",
        "\n",
        "    # Mean absolute difference\n",
        "    mad = np.abs(np.subtract.outer(x, x)).mean()\n",
        "    # Relative mean absolute difference\n",
        "    rmad = mad/np.mean(x)\n",
        "    # Gini coefficient\n",
        "    g = 0.5 * rmad\n",
        "    return g"
      ],
      "execution_count": 86,
      "outputs": []
    },
    {
      "cell_type": "code",
      "metadata": {
        "colab": {
          "base_uri": "https://localhost:8080/"
        },
        "id": "6pE2nEi7AZJf",
        "outputId": "d1689b69-d474-4d36-da6e-155df6c24ad0"
      },
      "source": [
        "print(experiment_hyper(800,200,500,50,10))"
      ],
      "execution_count": 83,
      "outputs": [
        {
          "output_type": "stream",
          "name": "stdout",
          "text": [
            "          SVD  ApproSVD\n",
            "0    4.121549  4.082844\n",
            "1    3.966204  3.846025\n",
            "2    3.678246  3.721306\n",
            "3    3.430349  3.541526\n",
            "4    4.004848  3.956622\n",
            "..        ...       ...\n",
            "938  3.636474  3.612869\n",
            "939  4.024903  4.048203\n",
            "940  3.739623  3.739623\n",
            "941  4.079862  4.031068\n",
            "942  4.099960  4.047501\n",
            "\n",
            "[943 rows x 2 columns]\n",
            "       SVD  ApproSVD\n",
            "0    408.6     392.7\n",
            "1    412.6     402.8\n",
            "2    338.7     309.1\n",
            "3    352.4     353.1\n",
            "4    390.4     365.8\n",
            "..     ...       ...\n",
            "938  310.1     316.7\n",
            "939  426.0     428.4\n",
            "940  383.5     383.5\n",
            "941  374.8     351.1\n",
            "942  307.5     286.5\n",
            "\n",
            "[943 rows x 2 columns]\n",
            "(0.39539099908045416, 0.3462995573793696, 2.423005493037915, 0.007743200698737866)\n"
          ]
        }
      ]
    },
    {
      "cell_type": "code",
      "metadata": {
        "colab": {
          "base_uri": "https://localhost:8080/"
        },
        "id": "oAeoWu6oN_jm",
        "outputId": "ff3dea0f-11e7-4ed7-c891-91469b40e94e"
      },
      "source": [
        "print(experiment_hyper(700,300,500,50,10))"
      ],
      "execution_count": 96,
      "outputs": [
        {
          "output_type": "stream",
          "name": "stdout",
          "text": [
            "          SVD  ApproSVD\n",
            "0    4.121549  4.139690\n",
            "1    3.966204  3.982245\n",
            "2    3.678246  3.721306\n",
            "3    3.430349  3.363157\n",
            "4    4.004848  3.960889\n",
            "..        ...       ...\n",
            "938  3.636474  3.601382\n",
            "939  4.024903  4.030729\n",
            "940  3.739623  3.739623\n",
            "941  4.079862  4.085689\n",
            "942  4.099960  4.053520\n",
            "\n",
            "[943 rows x 2 columns]\n",
            "       SVD  ApproSVD\n",
            "0    408.6     398.6\n",
            "1    412.6     354.0\n",
            "2    338.7     309.1\n",
            "3    352.4     307.5\n",
            "4    390.4     370.3\n",
            "..     ...       ...\n",
            "938  310.1     319.8\n",
            "939  426.0     409.1\n",
            "940  383.5     383.5\n",
            "941  374.8     357.9\n",
            "942  307.5     314.3\n",
            "\n",
            "[943 rows x 2 columns]\n",
            "(0.2726852458779148, 0.39256253035399524, 2.1155666645300952, 0.01725629453602237)\n"
          ]
        }
      ]
    },
    {
      "cell_type": "code",
      "metadata": {
        "colab": {
          "base_uri": "https://localhost:8080/"
        },
        "id": "KawHs_-6RAE8",
        "outputId": "28a350f2-f23f-4692-cc22-bb1286a892cc"
      },
      "source": [
        "np1=np.array(compare_appearance['SVD'])\n",
        "np2=np.array(compare_appearance['ApproSVD'])\n",
        "gini1 = gini(np1)\n",
        "gini2 = gini(np2)\n",
        "print(gini1,gini2)"
      ],
      "execution_count": 98,
      "outputs": [
        {
          "output_type": "stream",
          "name": "stdout",
          "text": [
            "0.0967305094191264 0.10622357551110938\n"
          ]
        }
      ]
    },
    {
      "cell_type": "code",
      "metadata": {
        "colab": {
          "base_uri": "https://localhost:8080/"
        },
        "id": "-gaRzdapRO6x",
        "outputId": "193fab8c-7604-4999-e8d0-98d5d78e733c"
      },
      "source": [
        "print(experiment_hyper(900,100,400,40,10))"
      ],
      "execution_count": 99,
      "outputs": [
        {
          "output_type": "stream",
          "name": "stdout",
          "text": [
            "          SVD  ApproSVD\n",
            "0    4.121549  4.159337\n",
            "1    3.966204  3.956618\n",
            "2    3.678246  3.721306\n",
            "3    3.430349  3.541526\n",
            "4    4.004848  4.003183\n",
            "..        ...       ...\n",
            "938  3.636474  3.621999\n",
            "939  4.024903  4.058915\n",
            "940  3.739623  3.739623\n",
            "941  4.079862  4.029622\n",
            "942  4.099960  3.871176\n",
            "\n",
            "[943 rows x 2 columns]\n",
            "       SVD  ApproSVD\n",
            "0    408.6     384.6\n",
            "1    412.6     374.1\n",
            "2    338.7     309.1\n",
            "3    352.4     353.1\n",
            "4    390.4     338.6\n",
            "..     ...       ...\n",
            "938  310.1     297.6\n",
            "939  426.0     397.4\n",
            "940  383.5     383.5\n",
            "941  374.8     352.5\n",
            "942  307.5     288.0\n",
            "\n",
            "[943 rows x 2 columns]\n",
            "(0.5842666949882471, 0.27955542328034116, 1.6184679490555192, 0.05286458625459164, 0.0967305094191264, 0.10293091025349713)\n"
          ]
        }
      ]
    },
    {
      "cell_type": "code",
      "metadata": {
        "colab": {
          "base_uri": "https://localhost:8080/"
        },
        "id": "lY4jshgDS73O",
        "outputId": "3e6cd06d-df9e-45ae-b687-d03428d4c033"
      },
      "source": [
        "print(experiment_hyper(900,100,600,60,10))"
      ],
      "execution_count": 100,
      "outputs": [
        {
          "output_type": "stream",
          "name": "stdout",
          "text": [
            "          SVD  ApproSVD\n",
            "0    4.121549  4.121549\n",
            "1    3.966204  3.846025\n",
            "2    3.678246  3.721306\n",
            "3    3.430349  3.541526\n",
            "4    4.004848  4.033921\n",
            "..        ...       ...\n",
            "938  3.636474  3.601382\n",
            "939  4.024903  4.020018\n",
            "940  3.739623  3.739623\n",
            "941  4.079862  4.040058\n",
            "942  4.099960  3.981266\n",
            "\n",
            "[943 rows x 2 columns]\n",
            "       SVD  ApproSVD\n",
            "0    408.6     408.6\n",
            "1    412.6     402.8\n",
            "2    338.7     309.1\n",
            "3    352.4     353.1\n",
            "4    390.4     360.6\n",
            "..     ...       ...\n",
            "938  310.1     319.8\n",
            "939  426.0     440.1\n",
            "940  383.5     383.5\n",
            "941  374.8     373.2\n",
            "942  307.5     299.6\n",
            "\n",
            "[943 rows x 2 columns]\n",
            "(0.6621586150324845, 0.2539752795719791, 1.6306600839687333, 0.051564605646906535, 0.0967305094191264, 0.10430999826126)\n"
          ]
        }
      ]
    },
    {
      "cell_type": "code",
      "metadata": {
        "colab": {
          "base_uri": "https://localhost:8080/"
        },
        "id": "tonjyBS6U-BR",
        "outputId": "3a9e3af4-e5d5-42a9-cc55-1e96c91ffdf3"
      },
      "source": [
        "print(experiment_hyper(900,100,600,60,15))"
      ],
      "execution_count": 101,
      "outputs": [
        {
          "output_type": "stream",
          "name": "stdout",
          "text": [
            "          SVD  ApproSVD\n",
            "0    4.121549  4.170032\n",
            "1    4.132783  4.014134\n",
            "2    3.678246  3.679805\n",
            "3    3.434407  3.541526\n",
            "4    3.932217  3.943739\n",
            "..        ...       ...\n",
            "938  3.514899  3.514899\n",
            "939  4.101897  4.048203\n",
            "940  3.725928  3.873060\n",
            "941  4.192723  4.058806\n",
            "942  4.203900  4.062058\n",
            "\n",
            "[943 rows x 2 columns]\n",
            "       SVD  ApproSVD\n",
            "0    408.6     410.7\n",
            "1    357.5     373.4\n",
            "2    338.7     301.1\n",
            "3    354.0     353.1\n",
            "4    356.4     341.2\n",
            "..     ...       ...\n",
            "938  315.3     315.3\n",
            "939  393.7     428.4\n",
            "940  407.2     346.2\n",
            "941  321.7     356.3\n",
            "942  397.4     316.6\n",
            "\n",
            "[943 rows x 2 columns]\n",
            "(0.6925586665477874, 0.24433595475907255, 2.7393216192145027, 0.003107313909471562, 0.09983639275805346, 0.10862120199812592)\n"
          ]
        }
      ]
    },
    {
      "cell_type": "code",
      "metadata": {
        "colab": {
          "base_uri": "https://localhost:8080/"
        },
        "id": "NZXVjdk5WjLv",
        "outputId": "3e4d8448-c711-4783-912d-f4aeebf75750"
      },
      "source": [
        "print(experiment_hyper(900,100,600,60,5))"
      ],
      "execution_count": 102,
      "outputs": [
        {
          "output_type": "stream",
          "name": "stdout",
          "text": [
            "          SVD  ApproSVD\n",
            "0    4.173064  4.115196\n",
            "1    3.789048  3.789048\n",
            "2    3.635030  3.635030\n",
            "3    3.541526  3.541526\n",
            "4    4.110090  4.075806\n",
            "..        ...       ...\n",
            "938  3.636474  3.627195\n",
            "939  3.935924  4.023754\n",
            "940  3.781915  3.730546\n",
            "941  3.945283  4.016290\n",
            "942  4.108927  4.095104\n",
            "\n",
            "[943 rows x 2 columns]\n",
            "       SVD  ApproSVD\n",
            "0    414.9     397.1\n",
            "1    423.8     423.8\n",
            "2    330.7     330.7\n",
            "3    353.1     353.1\n",
            "4    370.1     330.3\n",
            "..     ...       ...\n",
            "938  310.1     331.1\n",
            "939  415.7     437.1\n",
            "940  367.2     369.3\n",
            "941  302.8     333.0\n",
            "942  392.4     383.1\n",
            "\n",
            "[943 rows x 2 columns]\n",
            "(0.20769736454595147, 0.4177438617273768, 1.538398458632274, 0.06205957129532849, 0.08720393231483804, 0.09208844999414612)\n"
          ]
        }
      ]
    }
  ]
}